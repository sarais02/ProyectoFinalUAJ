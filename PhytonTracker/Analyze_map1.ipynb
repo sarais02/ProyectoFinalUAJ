{
 "cells": [
  {
   "cell_type": "markdown",
   "id": "9f4b7d1a-9d14-4c64-95ad-ad02f30f9e98",
   "metadata": {},
   "source": [
    "# Calculo de las metricas de un json"
   ]
  },
  {
   "cell_type": "code",
   "execution_count": 1,
   "id": "5f3412d5-e09a-4d48-b789-100bfea375f2",
   "metadata": {},
   "outputs": [],
   "source": [
    "import os\n",
    "import json\n",
    "import pandas as pd\n",
    "import numpy as np\n",
    "import matplotlib.pyplot as plt"
   ]
  },
  {
   "cell_type": "markdown",
   "id": "66a71cc5-f9c6-4a21-b83e-08ca8a24e281",
   "metadata": {},
   "source": [
    "### Lectura del documento"
   ]
  },
  {
   "cell_type": "code",
   "execution_count": 2,
   "id": "3f3750cc-91dd-4ac3-89f1-2fd906cbc807",
   "metadata": {},
   "outputs": [],
   "source": [
    "# Ruta de los archivos con los datos obtenidos por el \"Tracking system\"\n",
    "path = '../DataTracker'"
   ]
  },
  {
   "cell_type": "code",
   "execution_count": 3,
   "id": "40460087-0db7-48e5-8604-b7dbba25673e",
   "metadata": {},
   "outputs": [],
   "source": [
    "def loadJsonData(path):\n",
    "    jsonData = []\n",
    "    \n",
    "    # Obtener lista de archivos en la carpeta\n",
    "    jsonFiles = os.listdir(path)\n",
    "    \n",
    "    # Recorrer y filtrar solo los archivos JSON\n",
    "    for file in jsonFiles:\n",
    "        if file.endswith('.json'):\n",
    "            ruta_archivo = os.path.join(path, file)\n",
    "            \n",
    "            # Leer el contenido del archivo JSON\n",
    "            with open(ruta_archivo, 'r', encoding='utf-8') as f:\n",
    "                info = json.load(f)\n",
    "                jsonData.extend(info)\n",
    "    \n",
    "    return jsonData"
   ]
  },
  {
   "cell_type": "code",
   "execution_count": 4,
   "id": "38f92025-9335-4926-9329-af0c53269153",
   "metadata": {},
   "outputs": [],
   "source": [
    "# Leer los archivos JSON y obtener su información\n",
    "data = loadJsonData(path)\n",
    "\n",
    "# Se ordena la información del documento en base el timestamp\n",
    "sorted_data = sorted(data, key=lambda x: x['timestamp'])"
   ]
  },
  {
   "cell_type": "markdown",
   "id": "8ca48dc0-690a-473c-b7a1-9ced80acc9c8",
   "metadata": {},
   "source": [
    "### Parseo de Eventos"
   ]
  },
  {
   "cell_type": "code",
   "execution_count": 5,
   "id": "850cbed6-6539-4753-9cbc-d6da7303b130",
   "metadata": {},
   "outputs": [],
   "source": [
    "# Numero total de eventos\n",
    "num_events = len(sorted_data)\n",
    "# Indice de eventos\n",
    "index = 0\n",
    "sessions = []\n",
    "sesion = 0\n",
    "test_list = []\n",
    "test = 0\n",
    "pos_list = []"
   ]
  },
  {
   "cell_type": "code",
   "execution_count": 6,
   "id": "50bc0338-aef2-4480-8846-31dcc75844fd",
   "metadata": {},
   "outputs": [],
   "source": [
    "def parseEvent(event):\n",
    "    global test_list\n",
    "    global pos_list\n",
    "    global sesion\n",
    "    global test\n",
    "    global sessions\n",
    "    if event['typeEvent'] == \"LoginEvent\":\n",
    "        test = 0\n",
    "        #print(\"\\nInicio de sesion: \", sesion)\n",
    "    elif event['typeEvent'] == \"LogoutEvent\":\n",
    "        sessions.append(test_list.copy())\n",
    "        test_list.clear()\n",
    "        #print(\"\\nFin de sesion: \", sesion)\n",
    "        sesion += 1\n",
    "    # Empieza el test\n",
    "    elif event['typeEvent'] == \"StartTestEvent\":\n",
    "       print(\"\\nInicio de test: \", test)\n",
    "    # Acaba el test\n",
    "    elif event['typeEvent'] == \"EndTestEvent\":\n",
    "        test_list.append(pos_list.copy())\n",
    "        pos_list.clear()\n",
    "        #print(\"\\nFin de test: \", test)\n",
    "        test += 1\n",
    "    #Evento de movimeinto de un bot\n",
    "    elif event['typeEvent'] == \"BotPositionEvent\":\n",
    "        pos_list.append(event)\n",
    "    return  True"
   ]
  },
  {
   "cell_type": "code",
   "execution_count": 7,
   "id": "ac208150-8122-4647-a69a-8d829ef1634f",
   "metadata": {},
   "outputs": [
    {
     "name": "stdout",
     "output_type": "stream",
     "text": [
      "\n",
      "Inicio de test:  0\n",
      "\n",
      "Inicio de test:  0\n",
      "\n",
      "Inicio de test:  0\n"
     ]
    }
   ],
   "source": [
    "# Recorro todos los eventos generados\n",
    "while index < num_events:\n",
    "    currentEvent = sorted_data[index]\n",
    "    consumeEvent = parseEvent(currentEvent)\n",
    "    index += 1"
   ]
  },
  {
   "cell_type": "markdown",
   "id": "8133a73e-8147-4195-a085-b0a2ad30f449",
   "metadata": {},
   "source": [
    "### Mapa de calor con las posiciones"
   ]
  },
  {
   "cell_type": "code",
   "execution_count": 8,
   "id": "cb612444-1587-473c-8be7-2c85189913f9",
   "metadata": {
    "scrolled": true
   },
   "outputs": [
    {
     "name": "stdout",
     "output_type": "stream",
     "text": [
      "Session 0, Test 0: 59.72% del mapa cubierto\n",
      "Session 1, Test 0: 69.92% del mapa cubierto\n",
      "Session 2, Test 0: 89.72% del mapa cubierto\n"
     ]
    }
   ],
   "source": [
    "# Guardar la imagen del mapa\n",
    "img = plt.imread(\"images/map2.png\")\n",
    "\n",
    "# Dimensiones del mapa\n",
    "map_size = 200\n",
    "#Divido el mapa en casillas\n",
    "cellsize = 50\n",
    "\n",
    "# Función para calcular el % de mapa recorrido\n",
    "def calculate_visited_area(positions):\n",
    "    x_cells = np.linspace(0, map_size, cellsize+1)\n",
    "    y_cells = np.linspace(0, map_size, cellsize+1)\n",
    "    visited_cells = set()\n",
    "    \n",
    "    for _, row in positions.iterrows():\n",
    "        x, y = row['posX'], row['posZ']\n",
    "        x = max(0, min(map_size, x)) # Me aseguro que la coordenada este dentro de los limites del mapa\n",
    "        y = max(0, min(map_size, y)) # Me aseguro que la coordenada este dentro de los limites del mapa\n",
    "        #print(f'x: {x}')\n",
    "        x_bin = np.digitize(x, x_cells) - 1\n",
    "        #print(f'indice: {x_bin}')\n",
    "        y_bin = np.digitize(y, y_cells) - 1\n",
    "        #Me aseguro que este dentro de los limites de la grid\n",
    "        if 0 <= x_bin < cellsize and 0 <= y_bin < cellsize:\n",
    "            visited_cells.add((x_bin, y_bin))\n",
    "    \n",
    "    n_cells_visited = len(visited_cells) #Numero de casillas visitadas\n",
    "    gridsize = cellsize * cellsize #Total ed casillas\n",
    "    percentage_visited = (n_cells_visited / gridsize) * 100\n",
    "    return percentage_visited\n",
    "\n",
    "for i, currentSession in enumerate(sessions):\n",
    "    for j, currentTest in enumerate(currentSession):\n",
    "        dfTest = pd.DataFrame(currentTest)\n",
    "        \n",
    "        # Calcular el porcentaje del área recorrida\n",
    "        percentage_visited = calculate_visited_area(dfTest)\n",
    "        \n",
    "        # Imprimir el porcentaje del área recorrida\n",
    "        print(f'Session {i}, Test {j}: {percentage_visited:.2f}% del mapa cubierto')\n",
    "        \n",
    "        # Definir las dimensiones del mapa\n",
    "        fig, ax = plt.subplots(figsize=(10, 10))  # Tamaño en pulgadas de la imagen cuando se guarde\n",
    "        ax.imshow(img)\n",
    "        \n",
    "        # Dibujar el mapa de calor\n",
    "        dfTest.plot.hexbin(fig=fig, ax=ax, x=\"posX\", y=\"posZ\", reduce_C_function=sum, gridsize=(50, 50), extent=[0, map_size-1, 0, map_size-1], alpha=0.5, cmap='Reds')\n",
    "        \n",
    "        # Configurar las etiquetas de los ejes\n",
    "        ax.set_xticks(range(0, map_size+1, 50))\n",
    "        ax.set_yticks(range(0, map_size+1, 50))\n",
    "        \n",
    "        # Guardar el gráfico como imagen\n",
    "        fig.savefig(f'heatmaps/map1/heatmapSession{i}Test{j}.png')\n",
    "        plt.close(fig)"
   ]
  },
  {
   "cell_type": "code",
   "execution_count": null,
   "id": "43b07771",
   "metadata": {},
   "outputs": [],
   "source": []
  }
 ],
 "metadata": {
  "kernelspec": {
   "display_name": "Python 3 (ipykernel)",
   "language": "python",
   "name": "python3"
  },
  "language_info": {
   "codemirror_mode": {
    "name": "ipython",
    "version": 3
   },
   "file_extension": ".py",
   "mimetype": "text/x-python",
   "name": "python",
   "nbconvert_exporter": "python",
   "pygments_lexer": "ipython3",
   "version": "3.11.5"
  }
 },
 "nbformat": 4,
 "nbformat_minor": 5
}
