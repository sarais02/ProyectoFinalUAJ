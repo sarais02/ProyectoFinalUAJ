{
 "cells": [
  {
   "cell_type": "markdown",
   "id": "ad2eaed4",
   "metadata": {},
   "source": [
    "# Análisis de los datos obtenidos"
   ]
  },
  {
   "cell_type": "markdown",
   "id": "5542f54a",
   "metadata": {},
   "source": [
    "A continuación se analizarán los resultados obtenidos de acuerdo con el objetivo propuesto inicialmente.\n",
    "\n",
    "Nuestro objetivo es verificar la accesibilidad de las diferentes zonas de un mapa creado a través de varios parámetros configurables.\n",
    "\n",
    "Estas son nuestras preguntas de investigación:\n",
    "- Las zonas con mucho desnivel son poco accesibles para los bots.\n",
    "- Las zonas del mapa con mucha concentración de movimiento son cerradas.\n",
    "- El mapa en su totalidad es transitado por los bots.\n",
    "\n",
    "En base a estas preguntas, se comprobará que los resultados coincidan con los datos obtenidos:\n",
    "- **Poca accesibilidad en zonas altas**: Viendo los resultados de los diferentes mapas de calor, se puede observar que: En el primer mapa, que tiene una disposición llana, existe una concentración de movimiento nivelada, indicando que la ausencia de desniveles en el mapa permite la libre circulación de los bots sobre él. En el caso del segundo mapa, los árboles (puntos verdes) indican que son zonas montañosas, y estudiando la densidad de movimiento en esas zonas, se puede analizar que los bots no recorren esos picos altos, y por tanto, se confirma nuestra hipótesis de que las zonas con mucho desnivel tienen poca accesibilidad.\n",
    "- **Zonas cerradas**: De nuevo, se van a utilizar los resultados del mapa de calor para verificar nuestra hipótesis, podemos observar que en el primer mapa los bots se desplazan libremente aprovechando cada pequeña sección del mapa. Sin embargo, en el segundo mapa se pueden contemplar zonas con una densidad elevada y con alrededores completamente intransitados, llegando a la conclusión de que, efectivamente, hay zonas del mapa que son cerradas y de las cuales los bots no pueden salir.\n",
    "- **Tránsito del mapa**: Estudiando los datos obtenidos de los mapas de calor, se puede observar que: en el primer mapa existe una concentración de movimiento distribuida equitativamente, indicando que se puede tratar de un mapa llano por el que los bots pueden moverse libremente. Por otra parte, en el segundo mapa la densidad de movimiento es menor en ciertas secciones, no obstante, se puede ver una clara repartición de este desplazamiento sugiriendo que los bots estaban divididos por todo el mapa durante el test.\n",
    "\n",
    "En conclusión, hay muchos factores que entran en juego en la medida de accesibilidad de un mapa, como el número de bots, su dispersión por él o el tiempo total de simulación. Sin embargo, gracias a los resultados obtenidos, se puede confirmar que la accesibilidad de todas las zonas de un mapa pueden ser cuantificadas, considerando circunstancias como zonas con mucho desnivel que no se pueden recorrer, o agujeros inescapables."
   ]
  }
 ],
 "metadata": {
  "kernelspec": {
   "display_name": "Python 3 (ipykernel)",
   "language": "python",
   "name": "python3"
  },
  "language_info": {
   "codemirror_mode": {
    "name": "ipython",
    "version": 3
   },
   "file_extension": ".py",
   "mimetype": "text/x-python",
   "name": "python",
   "nbconvert_exporter": "python",
   "pygments_lexer": "ipython3",
   "version": "3.11.4"
  }
 },
 "nbformat": 4,
 "nbformat_minor": 5
}
