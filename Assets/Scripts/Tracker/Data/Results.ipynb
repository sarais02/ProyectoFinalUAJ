{
 "cells": [
  {
   "cell_type": "markdown",
   "id": "ad2eaed4",
   "metadata": {},
   "source": [
    "# Análisis de los datos obtenidos"
   ]
  },
  {
   "cell_type": "markdown",
   "id": "5542f54a",
   "metadata": {},
   "source": [
    "A continuación se analizarán los resultados obtenidos de acuerdo con el objetivo propuesto inicialmente.\n",
    "\n",
    "Nuestro objetivo es verificar la accesibilidad de las diferentes zonas de un mapa creado a través de varios parámetros configurables.\n",
    "\n",
    "Estas son nuestras preguntas de investigación:\n",
    "- El mapa en su totalidad es transitado por los bots.\n",
    "- Los picos altos son zonas poco accesibles para los bots.\n",
    "- Las zonas del mapa con mucha concentración de movimiento son cerradas.\n",
    "\n",
    "En base a estas preguntas, se comprobará que los resultados coincidan con los datos obtenidos:\n",
    "- **Tránsito del mapa**: Viendo los resultados de los diferentes mapas de calor, se puede observar que: en el primer mapa, los bots sólo recorren la parte superior derecha del mapa. Esto puede ser debido a que sólo se formen bots en esa zona específica, a que el tiempo de test no ha sido el suficiente para que se dispersen por todo el mapa, o a que esa zona sea cerrada y no se les permita avanzar en cualquiera de las direcciones. Sin embargo, en el segundo mapa se puede observar que gran parte del mapa tiene una concentración moderada de movimiento.\n",
    "- **Poca accesibilidad en zonas altas**: De nuevo, se van a utilizar los resultados del mapa de calor para verificar nuestra hipótesis. En el caso del segundo mapa, los árboles (puntos verdes) indican que son zonas montañosas, y estudiando la concentración de movimiento de esas zonas, se puede observar que los bots no recorren esos picos altos, y por tanto, se confirma nuestra hipótesis de que las zonas montañosas tienen poca accesibilidad.\n",
    "- **Zonas cerradas**: Estudiando los datos obtenidos de los mapas, podemos percibir que en el primer mapa existe mucha concentración en la zona superior derecha, al igual que en el segundo mapa, dónde se pueden observar zonas con una densidad elevada y con alrededores completamente intransitables. Concluyendo que, efectivamente, hay zonas del mapa que son cerradas y de las cuales los bots no pueden salir.\n",
    "\n",
    "En conclusión, hay muchos factores que entran en juego en la medida de accesibilidad de un mapa, como el número de bots, su dispersión por él o el tiempo total de simulación. Sin embargo, gracias a los resultados obtenidos, se puede confirmar que la accesibilidad de todas las zonas de un mapa pueden ser cuantificadas, considerando circunstancias como zonas con mucho desnivel que no se pueden recorrer, o agujeros inescapables."
   ]
  }
 ],
 "metadata": {
  "kernelspec": {
   "display_name": "Python 3 (ipykernel)",
   "language": "python",
   "name": "python3"
  },
  "language_info": {
   "codemirror_mode": {
    "name": "ipython",
    "version": 3
   },
   "file_extension": ".py",
   "mimetype": "text/x-python",
   "name": "python",
   "nbconvert_exporter": "python",
   "pygments_lexer": "ipython3",
   "version": "3.11.4"
  }
 },
 "nbformat": 4,
 "nbformat_minor": 5
}
