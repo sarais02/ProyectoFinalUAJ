{
 "cells": [
  {
   "cell_type": "markdown",
   "id": "9f4b7d1a-9d14-4c64-95ad-ad02f30f9e98",
   "metadata": {},
   "source": [
    "# Calculo de las metricas de un json"
   ]
  },
  {
   "cell_type": "code",
   "execution_count": null,
   "id": "5f3412d5-e09a-4d48-b789-100bfea375f2",
   "metadata": {},
   "outputs": [],
   "source": [
    "import json\n",
    "import pandas as pd\n",
    "import numpy as np\n",
    "import matplotlib.pyplot as plt\n",
    "import seaborn as sns\n",
    "\n",
    "sns.set_style('darkgrid')"
   ]
  },
  {
   "cell_type": "markdown",
   "id": "66a71cc5-f9c6-4a21-b83e-08ca8a24e281",
   "metadata": {},
   "source": [
    "### Lectura del documento"
   ]
  },
  {
   "cell_type": "code",
   "execution_count": null,
   "id": "3f3750cc-91dd-4ac3-89f1-2fd906cbc807",
   "metadata": {},
   "outputs": [],
   "source": [
    "# Ruta del archivo con los datos obtenidos por el \"Tracking system\"\n",
    "file_path = './RESULT.json'"
   ]
  },
  {
   "cell_type": "code",
   "execution_count": null,
   "id": "38f92025-9335-4926-9329-af0c53269153",
   "metadata": {},
   "outputs": [],
   "source": [
    "# Abrir el archivo json y cargarlo en la variable data\n",
    "with open(file_path) as f:\n",
    "    data = json.load(f)\n",
    "\n",
    "# Se ordena la información del documento en base el timestamp\n",
    "sorted_data = sorted(data, key=lambda x: x['timestamp'])"
   ]
  },
  {
   "cell_type": "code",
   "execution_count": null,
   "id": "850cbed6-6539-4753-9cbc-d6da7303b130",
   "metadata": {},
   "outputs": [],
   "source": [
    "# Numero total de eventos\n",
    "num_events = len(sorted_data)\n",
    "# Indice de eventos\n",
    "index = 0\n",
    "positions = []\n",
    "sesion = 0\n",
    "test_list = []"
   ]
  },
  {
   "cell_type": "code",
   "execution_count": null,
   "id": "50bc0338-aef2-4480-8846-31dcc75844fd",
   "metadata": {},
   "outputs": [],
   "source": [
    "def parseEvent(event):\n",
    "    global index_game\n",
    "    global test_list\n",
    "    global sesion\n",
    "    global level\n",
    "    global game_list\n",
    "    if event['typeEvent'] == \"LoginEvent\":\n",
    "        print(\"\\nInicio de sesion: \", sesion)\n",
    "    elif event['typeEvent'] == \"LogoutEvent\":\n",
    "        print(\"\\nFin de sesion: \", sesion)\n",
    "        sesion += 1\n",
    "    # Empieza el test\n",
    "    elif event['typeEvent'] == \"StartTestEvent\":\n",
    "       \n",
    "    # Acaba la partida\n",
    "    elif event['typeEvent'] == \"EndTestEvent\":\n",
    "        \n",
    "    elif event['typeEvent'] == \"BotPositionEvent\":\n",
    "        test_list.append(event)\n",
    "    return  True"
   ]
  },
  {
   "cell_type": "code",
   "execution_count": null,
   "id": "ac208150-8122-4647-a69a-8d829ef1634f",
   "metadata": {},
   "outputs": [],
   "source": [
    "# Recorro todos los eventos generados\n",
    "while index < num_events:\n",
    "    currentEvent = sorted_data[index]\n",
    "    consumeEvent = parseEvent(currentEvent)\n",
    "    index += 1"
   ]
  },
  {
   "cell_type": "code",
   "execution_count": null,
   "id": "22ee5e6f-11da-47fe-bcf8-6e45e8ae4fe9",
   "metadata": {},
   "outputs": [],
   "source": [
    "dfTest = pd.DataFrame(test_list)\n",
    "dfTest.head()"
   ]
  },
  {
   "cell_type": "code",
   "execution_count": null,
   "id": "cb612444-1587-473c-8be7-2c85189913f9",
   "metadata": {},
   "outputs": [],
   "source": [
    "# Definir las dimensiones del mapa\n",
    "fig,ax = plt.subplots(figsize=(200,200)) #Deberia ser un parametro del test\n",
    "\n",
    "# Guardar la imagen del mapa\n",
    "img = plt.imread(\"images/map1.png\")\n",
    "ax.imshow(img)"
   ]
  },
  {
   "cell_type": "code",
   "execution_count": null,
   "id": "5073405e-f08f-486f-adb6-0184718dfbb0",
   "metadata": {},
   "outputs": [],
   "source": [
    "# Dibujar el mapa de calor\n",
    "dfTest.plot.hexbin(fig = fig, ax = ax,x=\"posX\", y=\"posZ\", reduce_C_function=sum, gridsize=(200,200), extent=[0,750,0,750], alpha=0.5, cmap='Reds')\n",
    "ax.set_xticks(range(0, 750, 100))\n",
    "ax.set_yticks(range(0, 750, 100))\n",
    "fig.savefig('heatmap.png')"
   ]
  }
 ],
 "metadata": {
  "kernelspec": {
   "display_name": "Python 3 (ipykernel)",
   "language": "python",
   "name": "python3"
  },
  "language_info": {
   "codemirror_mode": {
    "name": "ipython",
    "version": 3
   },
   "file_extension": ".py",
   "mimetype": "text/x-python",
   "name": "python",
   "nbconvert_exporter": "python",
   "pygments_lexer": "ipython3",
   "version": "3.11.5"
  }
 },
 "nbformat": 4,
 "nbformat_minor": 5
}
