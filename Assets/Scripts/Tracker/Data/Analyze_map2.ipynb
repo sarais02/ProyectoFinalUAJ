{
 "cells": [
  {
   "cell_type": "markdown",
   "id": "9f4b7d1a-9d14-4c64-95ad-ad02f30f9e98",
   "metadata": {},
   "source": [
    "# Calculo de las metricas de un json"
   ]
  },
  {
   "cell_type": "code",
   "execution_count": 4,
   "id": "5f3412d5-e09a-4d48-b789-100bfea375f2",
   "metadata": {},
   "outputs": [],
   "source": [
    "import json\n",
    "import pandas as pd\n",
    "import numpy as np\n",
    "import matplotlib.pyplot as plt"
   ]
  },
  {
   "cell_type": "markdown",
   "id": "66a71cc5-f9c6-4a21-b83e-08ca8a24e281",
   "metadata": {},
   "source": [
    "### Lectura del documento"
   ]
  },
  {
   "cell_type": "code",
   "execution_count": 5,
   "id": "3f3750cc-91dd-4ac3-89f1-2fd906cbc807",
   "metadata": {},
   "outputs": [],
   "source": [
    "# Ruta del archivo con los datos obtenidos por el \"Tracking system\"\n",
    "file_path = './RESULT.json'"
   ]
  },
  {
   "cell_type": "code",
   "execution_count": 6,
   "id": "38f92025-9335-4926-9329-af0c53269153",
   "metadata": {},
   "outputs": [
    {
     "ename": "JSONDecodeError",
     "evalue": "Unterminated string starting at: line 4611 column 330 (char 1641064)",
     "output_type": "error",
     "traceback": [
      "\u001b[1;31m---------------------------------------------------------------------------\u001b[0m",
      "\u001b[1;31mJSONDecodeError\u001b[0m                           Traceback (most recent call last)",
      "Cell \u001b[1;32mIn[6], line 3\u001b[0m\n\u001b[0;32m      1\u001b[0m \u001b[38;5;66;03m# Abrir el archivo json y cargarlo en la variable data\u001b[39;00m\n\u001b[0;32m      2\u001b[0m \u001b[38;5;28;01mwith\u001b[39;00m \u001b[38;5;28mopen\u001b[39m(file_path) \u001b[38;5;28;01mas\u001b[39;00m f:\n\u001b[1;32m----> 3\u001b[0m     data \u001b[38;5;241m=\u001b[39m json\u001b[38;5;241m.\u001b[39mload(f)\n\u001b[0;32m      5\u001b[0m \u001b[38;5;66;03m# Se ordena la información del documento en base el timestamp\u001b[39;00m\n\u001b[0;32m      6\u001b[0m sorted_data \u001b[38;5;241m=\u001b[39m \u001b[38;5;28msorted\u001b[39m(data, key\u001b[38;5;241m=\u001b[39m\u001b[38;5;28;01mlambda\u001b[39;00m x: x[\u001b[38;5;124m'\u001b[39m\u001b[38;5;124mtimestamp\u001b[39m\u001b[38;5;124m'\u001b[39m])\n",
      "File \u001b[1;32m~\\anaconda3\\Lib\\json\\__init__.py:293\u001b[0m, in \u001b[0;36mload\u001b[1;34m(fp, cls, object_hook, parse_float, parse_int, parse_constant, object_pairs_hook, **kw)\u001b[0m\n\u001b[0;32m    274\u001b[0m \u001b[38;5;28;01mdef\u001b[39;00m \u001b[38;5;21mload\u001b[39m(fp, \u001b[38;5;241m*\u001b[39m, \u001b[38;5;28mcls\u001b[39m\u001b[38;5;241m=\u001b[39m\u001b[38;5;28;01mNone\u001b[39;00m, object_hook\u001b[38;5;241m=\u001b[39m\u001b[38;5;28;01mNone\u001b[39;00m, parse_float\u001b[38;5;241m=\u001b[39m\u001b[38;5;28;01mNone\u001b[39;00m,\n\u001b[0;32m    275\u001b[0m         parse_int\u001b[38;5;241m=\u001b[39m\u001b[38;5;28;01mNone\u001b[39;00m, parse_constant\u001b[38;5;241m=\u001b[39m\u001b[38;5;28;01mNone\u001b[39;00m, object_pairs_hook\u001b[38;5;241m=\u001b[39m\u001b[38;5;28;01mNone\u001b[39;00m, \u001b[38;5;241m*\u001b[39m\u001b[38;5;241m*\u001b[39mkw):\n\u001b[0;32m    276\u001b[0m \u001b[38;5;250m    \u001b[39m\u001b[38;5;124;03m\"\"\"Deserialize ``fp`` (a ``.read()``-supporting file-like object containing\u001b[39;00m\n\u001b[0;32m    277\u001b[0m \u001b[38;5;124;03m    a JSON document) to a Python object.\u001b[39;00m\n\u001b[0;32m    278\u001b[0m \n\u001b[1;32m   (...)\u001b[0m\n\u001b[0;32m    291\u001b[0m \u001b[38;5;124;03m    kwarg; otherwise ``JSONDecoder`` is used.\u001b[39;00m\n\u001b[0;32m    292\u001b[0m \u001b[38;5;124;03m    \"\"\"\u001b[39;00m\n\u001b[1;32m--> 293\u001b[0m     \u001b[38;5;28;01mreturn\u001b[39;00m loads(fp\u001b[38;5;241m.\u001b[39mread(),\n\u001b[0;32m    294\u001b[0m         \u001b[38;5;28mcls\u001b[39m\u001b[38;5;241m=\u001b[39m\u001b[38;5;28mcls\u001b[39m, object_hook\u001b[38;5;241m=\u001b[39mobject_hook,\n\u001b[0;32m    295\u001b[0m         parse_float\u001b[38;5;241m=\u001b[39mparse_float, parse_int\u001b[38;5;241m=\u001b[39mparse_int,\n\u001b[0;32m    296\u001b[0m         parse_constant\u001b[38;5;241m=\u001b[39mparse_constant, object_pairs_hook\u001b[38;5;241m=\u001b[39mobject_pairs_hook, \u001b[38;5;241m*\u001b[39m\u001b[38;5;241m*\u001b[39mkw)\n",
      "File \u001b[1;32m~\\anaconda3\\Lib\\json\\__init__.py:346\u001b[0m, in \u001b[0;36mloads\u001b[1;34m(s, cls, object_hook, parse_float, parse_int, parse_constant, object_pairs_hook, **kw)\u001b[0m\n\u001b[0;32m    341\u001b[0m     s \u001b[38;5;241m=\u001b[39m s\u001b[38;5;241m.\u001b[39mdecode(detect_encoding(s), \u001b[38;5;124m'\u001b[39m\u001b[38;5;124msurrogatepass\u001b[39m\u001b[38;5;124m'\u001b[39m)\n\u001b[0;32m    343\u001b[0m \u001b[38;5;28;01mif\u001b[39;00m (\u001b[38;5;28mcls\u001b[39m \u001b[38;5;129;01mis\u001b[39;00m \u001b[38;5;28;01mNone\u001b[39;00m \u001b[38;5;129;01mand\u001b[39;00m object_hook \u001b[38;5;129;01mis\u001b[39;00m \u001b[38;5;28;01mNone\u001b[39;00m \u001b[38;5;129;01mand\u001b[39;00m\n\u001b[0;32m    344\u001b[0m         parse_int \u001b[38;5;129;01mis\u001b[39;00m \u001b[38;5;28;01mNone\u001b[39;00m \u001b[38;5;129;01mand\u001b[39;00m parse_float \u001b[38;5;129;01mis\u001b[39;00m \u001b[38;5;28;01mNone\u001b[39;00m \u001b[38;5;129;01mand\u001b[39;00m\n\u001b[0;32m    345\u001b[0m         parse_constant \u001b[38;5;129;01mis\u001b[39;00m \u001b[38;5;28;01mNone\u001b[39;00m \u001b[38;5;129;01mand\u001b[39;00m object_pairs_hook \u001b[38;5;129;01mis\u001b[39;00m \u001b[38;5;28;01mNone\u001b[39;00m \u001b[38;5;129;01mand\u001b[39;00m \u001b[38;5;129;01mnot\u001b[39;00m kw):\n\u001b[1;32m--> 346\u001b[0m     \u001b[38;5;28;01mreturn\u001b[39;00m _default_decoder\u001b[38;5;241m.\u001b[39mdecode(s)\n\u001b[0;32m    347\u001b[0m \u001b[38;5;28;01mif\u001b[39;00m \u001b[38;5;28mcls\u001b[39m \u001b[38;5;129;01mis\u001b[39;00m \u001b[38;5;28;01mNone\u001b[39;00m:\n\u001b[0;32m    348\u001b[0m     \u001b[38;5;28mcls\u001b[39m \u001b[38;5;241m=\u001b[39m JSONDecoder\n",
      "File \u001b[1;32m~\\anaconda3\\Lib\\json\\decoder.py:337\u001b[0m, in \u001b[0;36mJSONDecoder.decode\u001b[1;34m(self, s, _w)\u001b[0m\n\u001b[0;32m    332\u001b[0m \u001b[38;5;28;01mdef\u001b[39;00m \u001b[38;5;21mdecode\u001b[39m(\u001b[38;5;28mself\u001b[39m, s, _w\u001b[38;5;241m=\u001b[39mWHITESPACE\u001b[38;5;241m.\u001b[39mmatch):\n\u001b[0;32m    333\u001b[0m \u001b[38;5;250m    \u001b[39m\u001b[38;5;124;03m\"\"\"Return the Python representation of ``s`` (a ``str`` instance\u001b[39;00m\n\u001b[0;32m    334\u001b[0m \u001b[38;5;124;03m    containing a JSON document).\u001b[39;00m\n\u001b[0;32m    335\u001b[0m \n\u001b[0;32m    336\u001b[0m \u001b[38;5;124;03m    \"\"\"\u001b[39;00m\n\u001b[1;32m--> 337\u001b[0m     obj, end \u001b[38;5;241m=\u001b[39m \u001b[38;5;28mself\u001b[39m\u001b[38;5;241m.\u001b[39mraw_decode(s, idx\u001b[38;5;241m=\u001b[39m_w(s, \u001b[38;5;241m0\u001b[39m)\u001b[38;5;241m.\u001b[39mend())\n\u001b[0;32m    338\u001b[0m     end \u001b[38;5;241m=\u001b[39m _w(s, end)\u001b[38;5;241m.\u001b[39mend()\n\u001b[0;32m    339\u001b[0m     \u001b[38;5;28;01mif\u001b[39;00m end \u001b[38;5;241m!=\u001b[39m \u001b[38;5;28mlen\u001b[39m(s):\n",
      "File \u001b[1;32m~\\anaconda3\\Lib\\json\\decoder.py:353\u001b[0m, in \u001b[0;36mJSONDecoder.raw_decode\u001b[1;34m(self, s, idx)\u001b[0m\n\u001b[0;32m    344\u001b[0m \u001b[38;5;250m\u001b[39m\u001b[38;5;124;03m\"\"\"Decode a JSON document from ``s`` (a ``str`` beginning with\u001b[39;00m\n\u001b[0;32m    345\u001b[0m \u001b[38;5;124;03ma JSON document) and return a 2-tuple of the Python\u001b[39;00m\n\u001b[0;32m    346\u001b[0m \u001b[38;5;124;03mrepresentation and the index in ``s`` where the document ended.\u001b[39;00m\n\u001b[1;32m   (...)\u001b[0m\n\u001b[0;32m    350\u001b[0m \n\u001b[0;32m    351\u001b[0m \u001b[38;5;124;03m\"\"\"\u001b[39;00m\n\u001b[0;32m    352\u001b[0m \u001b[38;5;28;01mtry\u001b[39;00m:\n\u001b[1;32m--> 353\u001b[0m     obj, end \u001b[38;5;241m=\u001b[39m \u001b[38;5;28mself\u001b[39m\u001b[38;5;241m.\u001b[39mscan_once(s, idx)\n\u001b[0;32m    354\u001b[0m \u001b[38;5;28;01mexcept\u001b[39;00m \u001b[38;5;167;01mStopIteration\u001b[39;00m \u001b[38;5;28;01mas\u001b[39;00m err:\n\u001b[0;32m    355\u001b[0m     \u001b[38;5;28;01mraise\u001b[39;00m JSONDecodeError(\u001b[38;5;124m\"\u001b[39m\u001b[38;5;124mExpecting value\u001b[39m\u001b[38;5;124m\"\u001b[39m, s, err\u001b[38;5;241m.\u001b[39mvalue) \u001b[38;5;28;01mfrom\u001b[39;00m \u001b[38;5;28;01mNone\u001b[39;00m\n",
      "\u001b[1;31mJSONDecodeError\u001b[0m: Unterminated string starting at: line 4611 column 330 (char 1641064)"
     ]
    }
   ],
   "source": [
    "# Abrir el archivo json y cargarlo en la variable data\n",
    "with open(file_path) as f:\n",
    "    data = json.load(f)\n",
    "\n",
    "# Se ordena la información del documento en base el timestamp\n",
    "sorted_data = sorted(data, key=lambda x: x['timestamp'])"
   ]
  },
  {
   "cell_type": "markdown",
   "id": "8ca48dc0-690a-473c-b7a1-9ced80acc9c8",
   "metadata": {},
   "source": [
    "### Parseo de Eventos"
   ]
  },
  {
   "cell_type": "code",
   "execution_count": 7,
   "id": "850cbed6-6539-4753-9cbc-d6da7303b130",
   "metadata": {},
   "outputs": [
    {
     "ename": "NameError",
     "evalue": "name 'sorted_data' is not defined",
     "output_type": "error",
     "traceback": [
      "\u001b[1;31m---------------------------------------------------------------------------\u001b[0m",
      "\u001b[1;31mNameError\u001b[0m                                 Traceback (most recent call last)",
      "Cell \u001b[1;32mIn[7], line 2\u001b[0m\n\u001b[0;32m      1\u001b[0m \u001b[38;5;66;03m# Numero total de eventos\u001b[39;00m\n\u001b[1;32m----> 2\u001b[0m num_events \u001b[38;5;241m=\u001b[39m \u001b[38;5;28mlen\u001b[39m(sorted_data)\n\u001b[0;32m      3\u001b[0m \u001b[38;5;66;03m# Indice de eventos\u001b[39;00m\n\u001b[0;32m      4\u001b[0m index \u001b[38;5;241m=\u001b[39m \u001b[38;5;241m0\u001b[39m\n",
      "\u001b[1;31mNameError\u001b[0m: name 'sorted_data' is not defined"
     ]
    }
   ],
   "source": [
    "# Numero total de eventos\n",
    "num_events = len(sorted_data)\n",
    "# Indice de eventos\n",
    "index = 0\n",
    "sessions = []\n",
    "sesion = 0\n",
    "test_list = []\n",
    "test = 0\n",
    "pos_list = []"
   ]
  },
  {
   "cell_type": "code",
   "execution_count": null,
   "id": "50bc0338-aef2-4480-8846-31dcc75844fd",
   "metadata": {},
   "outputs": [],
   "source": [
    "def parseEvent(event):\n",
    "    global test_list\n",
    "    global pos_list\n",
    "    global sesion\n",
    "    global test\n",
    "    global sessions\n",
    "    if event['typeEvent'] == \"LoginEvent\":\n",
    "        test = 0\n",
    "        #print(\"\\nInicio de sesion: \", sesion)\n",
    "    elif event['typeEvent'] == \"LogoutEvent\":\n",
    "        sessions.append(test_list.copy())\n",
    "        test_list.clear()\n",
    "        #print(\"\\nFin de sesion: \", sesion)\n",
    "        sesion += 1\n",
    "    # Empieza el test\n",
    "    elif event['typeEvent'] == \"StartTestEvent\":\n",
    "       print(\"\\nInicio de test: \", test)\n",
    "    # Acaba el test\n",
    "    elif event['typeEvent'] == \"EndTestEvent\":\n",
    "        test_list.append(pos_list.copy())\n",
    "        pos_list.clear()\n",
    "        #print(\"\\nFin de test: \", test)\n",
    "        test += 1\n",
    "    #Evento de movimeinto de un bot\n",
    "    elif event['typeEvent'] == \"BotPositionEvent\":\n",
    "        pos_list.append(event)\n",
    "    return  True"
   ]
  },
  {
   "cell_type": "code",
   "execution_count": null,
   "id": "ac208150-8122-4647-a69a-8d829ef1634f",
   "metadata": {},
   "outputs": [],
   "source": [
    "# Recorro todos los eventos generados\n",
    "while index < num_events:\n",
    "    currentEvent = sorted_data[index]\n",
    "    consumeEvent = parseEvent(currentEvent)\n",
    "    index += 1"
   ]
  },
  {
   "cell_type": "markdown",
   "id": "8133a73e-8147-4195-a085-b0a2ad30f449",
   "metadata": {},
   "source": [
    "### Mapa de calor con las posiciones"
   ]
  },
  {
   "cell_type": "code",
   "execution_count": null,
   "id": "cb612444-1587-473c-8be7-2c85189913f9",
   "metadata": {
    "scrolled": true
   },
   "outputs": [],
   "source": [
    "# Guardar la imagen del mapa\n",
    "img = plt.imread(\"images/map3.png\")\n",
    "\n",
    "for i, currentSession in enumerate(sessions):\n",
    "    for j, currentTest in enumerate(currentSession):\n",
    "        dfTest = pd.DataFrame(currentTest)\n",
    "        # Definir las dimensiones del mapa\n",
    "        fig,ax = plt.subplots(figsize=(10,10)) #Tamaño en pulgadas de la imagen cuando se guarde\n",
    "        ax.imshow(img)\n",
    "        # Dibujar el mapa de calor\n",
    "        dfTest.plot.hexbin(fig = fig, ax = ax,x=\"posX\", y=\"posZ\", reduce_C_function=sum, gridsize=(50,50), extent=[0,199,0,199], alpha=0.5, cmap='Reds')\n",
    "        ax.set_xticks(range(0, 199, 50))\n",
    "        ax.set_yticks(range(0, 199, 50))\n",
    "        fig.savefig('heatmaps/heatmapSession'+str(i)+'Test'+str(j)+'.png')"
   ]
  },
  {
   "cell_type": "code",
   "execution_count": null,
   "id": "bd90fb7c",
   "metadata": {},
   "outputs": [],
   "source": []
  }
 ],
 "metadata": {
  "kernelspec": {
   "display_name": "Python 3 (ipykernel)",
   "language": "python",
   "name": "python3"
  },
  "language_info": {
   "codemirror_mode": {
    "name": "ipython",
    "version": 3
   },
   "file_extension": ".py",
   "mimetype": "text/x-python",
   "name": "python",
   "nbconvert_exporter": "python",
   "pygments_lexer": "ipython3",
   "version": "3.11.4"
  }
 },
 "nbformat": 4,
 "nbformat_minor": 5
}
