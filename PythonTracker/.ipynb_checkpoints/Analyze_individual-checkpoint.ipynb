{
 "cells": [
  {
   "cell_type": "markdown",
   "id": "9f4b7d1a-9d14-4c64-95ad-ad02f30f9e98",
   "metadata": {},
   "source": [
    "# Calculo de las metricas"
   ]
  },
  {
   "cell_type": "markdown",
   "id": "89f4bccd-cf18-4a7f-921d-92532f125a68",
   "metadata": {},
   "source": [
    "En este archivo se analizan las trazas guardadas en varios archivos json"
   ]
  },
  {
   "cell_type": "code",
   "execution_count": 89,
   "id": "5f3412d5-e09a-4d48-b789-100bfea375f2",
   "metadata": {},
   "outputs": [],
   "source": [
    "import os\n",
    "import json\n",
    "import pandas as pd\n",
    "import numpy as np\n",
    "import matplotlib.pyplot as plt"
   ]
  },
  {
   "cell_type": "markdown",
   "id": "66a71cc5-f9c6-4a21-b83e-08ca8a24e281",
   "metadata": {},
   "source": [
    "### Lectura del documento"
   ]
  },
  {
   "cell_type": "code",
   "execution_count": 90,
   "id": "3f3750cc-91dd-4ac3-89f1-2fd906cbc807",
   "metadata": {},
   "outputs": [],
   "source": [
    "# Ruta de los archivos con los datos obtenidos por el \"Tracking system\"\n",
    "path = './DataTracker'"
   ]
  },
  {
   "cell_type": "code",
   "execution_count": 91,
   "id": "40460087-0db7-48e5-8604-b7dbba25673e",
   "metadata": {},
   "outputs": [],
   "source": [
    "def loadJsonData(path):\n",
    "    jsonData = []\n",
    "    \n",
    "    # Obtener lista de archivos en la carpeta\n",
    "    jsonFiles = os.listdir(path)\n",
    "    \n",
    "    # Recorrer y filtrar solo los archivos JSON\n",
    "    for file in jsonFiles:\n",
    "        if file.endswith('.json'):\n",
    "            file_path = os.path.join(path, file)\n",
    "            \n",
    "            # Leer el contenido del archivo JSON\n",
    "            with open(file_path, 'r', encoding='utf-8') as f:\n",
    "                info = json.load(f)\n",
    "                jsonData.extend(info)\n",
    "    \n",
    "    return jsonData"
   ]
  },
  {
   "cell_type": "code",
   "execution_count": 92,
   "id": "38f92025-9335-4926-9329-af0c53269153",
   "metadata": {},
   "outputs": [],
   "source": [
    "# Leer los archivos JSON y obtener su información\n",
    "data = loadJsonData(path)\n",
    "\n",
    "# Se ordena la información del documento en base el timestamp\n",
    "sorted_data = sorted(data, key=lambda x: x['timestamp'])"
   ]
  },
  {
   "cell_type": "markdown",
   "id": "8ca48dc0-690a-473c-b7a1-9ced80acc9c8",
   "metadata": {},
   "source": [
    "### Parseo de Eventos"
   ]
  },
  {
   "cell_type": "code",
   "execution_count": 93,
   "id": "850cbed6-6539-4753-9cbc-d6da7303b130",
   "metadata": {},
   "outputs": [],
   "source": [
    "# Numero total de eventos\n",
    "num_events = len(sorted_data)\n",
    "# Indice de eventos\n",
    "index = 0\n",
    "sessions = []\n",
    "sesion = 0\n",
    "test_list = []\n",
    "test = 0\n",
    "pos_list = []"
   ]
  },
  {
   "cell_type": "code",
   "execution_count": 94,
   "id": "50bc0338-aef2-4480-8846-31dcc75844fd",
   "metadata": {},
   "outputs": [],
   "source": [
    "def parseEvent(event):\n",
    "    global test_list\n",
    "    global pos_list\n",
    "    global sesion\n",
    "    global test\n",
    "    global sessions\n",
    "    if event['typeEvent'] == \"LoginEvent\":\n",
    "        test = 0\n",
    "    elif event['typeEvent'] == \"LogoutEvent\":\n",
    "        sessions.append(test_list.copy())\n",
    "        test_list.clear()\n",
    "        sesion += 1\n",
    "    # Acaba el test\n",
    "    elif event['typeEvent'] == \"EndTestEvent\":\n",
    "        test_list.append(pos_list.copy())\n",
    "        pos_list.clear()\n",
    "        test += 1\n",
    "    #Evento de movimeinto de un bot\n",
    "    elif event['typeEvent'] == \"BotPositionEvent\":\n",
    "        pos_list.append(event)\n",
    "    return  True"
   ]
  },
  {
   "cell_type": "code",
   "execution_count": 95,
   "id": "ac208150-8122-4647-a69a-8d829ef1634f",
   "metadata": {},
   "outputs": [],
   "source": [
    "# Recorro todos los eventos generados\n",
    "while index < num_events:\n",
    "    currentEvent = sorted_data[index]\n",
    "    consumeEvent = parseEvent(currentEvent)\n",
    "    index += 1"
   ]
  },
  {
   "cell_type": "markdown",
   "id": "8133a73e-8147-4195-a085-b0a2ad30f449",
   "metadata": {},
   "source": [
    "### Mapa de calor con las posiciones y porcentaje"
   ]
  },
  {
   "cell_type": "markdown",
   "id": "9ab5a07b-4b6c-4d47-9aa3-5bda417abbe4",
   "metadata": {},
   "source": [
    "En este archivo se analizan de forma individual los mapas. Es decir, se genera un mapa de calor para cada sesion y se calcula el porcentaje de cobertura de esta forma también.\n",
    "\n",
    "Esta opción debe tomarse si se quiere un nivel de desglose alto."
   ]
  },
  {
   "cell_type": "markdown",
   "id": "249e188e-00b2-447e-907f-adf38253152f",
   "metadata": {},
   "source": [
    "#### Calculo del porcentaje"
   ]
  },
  {
   "cell_type": "code",
   "execution_count": 96,
   "id": "f9cbb883-6e37-4f51-b44a-b02a1006fa61",
   "metadata": {},
   "outputs": [],
   "source": [
    "# Función para calcular el % de mapa recorrido\n",
    "def calculate_visited_area(positions):\n",
    "    x_cells = np.linspace(0, map_size, cellsize+1)\n",
    "    y_cells = np.linspace(0, map_size, cellsize+1)\n",
    "    visited_cells = set()\n",
    "    \n",
    "    for _, row in positions.iterrows():\n",
    "        x, y = row['posX'], row['posZ']\n",
    "        x = max(0, min(map_size, x)) # Me aseguro que la coordenada este dentro de los limites del mapa\n",
    "        y = max(0, min(map_size, y)) # Me aseguro que la coordenada este dentro de los limites del mapa\n",
    "        #print(f'x: {x}')\n",
    "        x_bin = np.digitize(x, x_cells) - 1\n",
    "        #print(f'indice: {x_bin}')\n",
    "        y_bin = np.digitize(y, y_cells) - 1\n",
    "        #Me aseguro que este dentro de los limites de la grid\n",
    "        if 0 <= x_bin < cellsize and 0 <= y_bin < cellsize:\n",
    "            visited_cells.add((x_bin, y_bin))\n",
    "    \n",
    "    n_cells_visited = len(visited_cells) #Numero de casillas visitadas\n",
    "    gridsize = cellsize * cellsize #Total ed casillas\n",
    "    percentage_visited = (n_cells_visited / gridsize) * 100\n",
    "    return percentage_visited"
   ]
  },
  {
   "cell_type": "markdown",
   "id": "27365eef-d748-4fdf-8c50-5236c53068e5",
   "metadata": {},
   "source": [
    "#### Creacion del mapa de calor"
   ]
  },
  {
   "cell_type": "code",
   "execution_count": 97,
   "id": "8ec946d7-f5aa-4fa1-8876-ca652be68b41",
   "metadata": {},
   "outputs": [],
   "source": [
    "map_name = \"map1\""
   ]
  },
  {
   "cell_type": "code",
   "execution_count": 98,
   "id": "cb612444-1587-473c-8be7-2c85189913f9",
   "metadata": {
    "scrolled": true
   },
   "outputs": [
    {
     "name": "stdout",
     "output_type": "stream",
     "text": [
      "Session 0, Test 0: 59.72% del mapa cubierto\n",
      "Session 1, Test 0: 69.92% del mapa cubierto\n",
      "Session 2, Test 0: 89.72% del mapa cubierto\n"
     ]
    }
   ],
   "source": [
    "# Guardar la imagen del mapa\n",
    "img = plt.imread(f'images/{map_name}.png')\n",
    "\n",
    "# Dimensiones del mapa\n",
    "map_size = 200\n",
    "#Divido el mapa en casillas\n",
    "cellsize = 50\n",
    "\n",
    "\n",
    "for i, currentSession in enumerate(sessions):\n",
    "    for j, currentTest in enumerate(currentSession):\n",
    "        dfTest = pd.DataFrame(currentTest)\n",
    "        \n",
    "        # Calcular el porcentaje del área recorrida\n",
    "        percentage_visited = calculate_visited_area(dfTest)\n",
    "        \n",
    "        # Imprimir el porcentaje del área recorrida\n",
    "        print(f'Session {i}, Test {j}: {percentage_visited:.2f}% del mapa cubierto')\n",
    "        \n",
    "        # Definir las dimensiones del mapa\n",
    "        fig, ax = plt.subplots(figsize=(10, 10))  # Tamaño en pulgadas de la imagen cuando se guarde\n",
    "        ax.imshow(img)\n",
    "        \n",
    "        # Dibujar el mapa de calor\n",
    "        dfTest.plot.hexbin(fig=fig, ax=ax, x=\"posX\", y=\"posZ\", reduce_C_function=sum, gridsize=(50, 50), extent=[0, map_size-1, 0, map_size-1], alpha=0.5, cmap='Reds')\n",
    "        \n",
    "        # Configurar las etiquetas de los ejes\n",
    "        ax.set_xticks(range(0, map_size+1, 50))\n",
    "        ax.set_yticks(range(0, map_size+1, 50))\n",
    "        \n",
    "        # Guardar el gráfico como imagen\n",
    "        fig.savefig(f'heatmaps/{map_name}/heatmapSession{i}Test{j}.png')\n",
    "        plt.close(fig)"
   ]
  }
 ],
 "metadata": {
  "kernelspec": {
   "display_name": "Python 3 (ipykernel)",
   "language": "python",
   "name": "python3"
  },
  "language_info": {
   "codemirror_mode": {
    "name": "ipython",
    "version": 3
   },
   "file_extension": ".py",
   "mimetype": "text/x-python",
   "name": "python",
   "nbconvert_exporter": "python",
   "pygments_lexer": "ipython3",
   "version": "3.11.5"
  }
 },
 "nbformat": 4,
 "nbformat_minor": 5
}
